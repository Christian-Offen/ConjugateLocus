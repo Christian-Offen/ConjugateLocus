{
 "cells": [
  {
   "cell_type": "code",
   "execution_count": 2,
   "metadata": {},
   "outputs": [],
   "source": [
    "from EndPtJAX import Locus\n",
    "import jax.numpy as jnp\n",
    "import scipy.io         # Matlab export\n",
    "\n",
    "import matplotlib.pyplot as plt\n"
   ]
  },
  {
   "cell_type": "code",
   "execution_count": 3,
   "metadata": {},
   "outputs": [
    {
     "name": "stderr",
     "output_type": "stream",
     "text": [
      "/home/christianoffen/.local/lib/python3.8/site-packages/jax/lib/xla_bridge.py:130: UserWarning: No GPU/TPU found, falling back to CPU.\n",
      "  warnings.warn('No GPU/TPU found, falling back to CPU.')\n"
     ]
    }
   ],
   "source": [
    "# Setup of problem on 3d ellipsoid in R4\n",
    "\n",
    "n = 4                              # dimension outer space\n",
    "b = jnp.array([0.9,1.2,1.6,1])     # ellipsoid coefficients\n",
    "T = 1                              # time\n",
    "N = 10                             # steps\n",
    "dt = T/N                           # discretisation parameter\n",
    "XStart = jnp.array([0.1,0.05,0.2]) # start point of geodesic map\n",
    "\n",
    "l3 = Locus(n,b,T,N,XStart)         # Create 3d geodesic problem (instance of class Locus)"
   ]
  },
  {
   "cell_type": "code",
   "execution_count": 11,
   "metadata": {},
   "outputs": [],
   "source": [
    "# square mesh\n",
    "x0B = [-4,4]\n",
    "x1B = [-4,4]\n",
    "x2B = [-4,4]\n",
    "\n",
    "NN = 200\n",
    "\n",
    "x0 = jnp.linspace(x0B[0],x0B[1],NN)\n",
    "x1 = jnp.linspace(x1B[0],x1B[1],NN)\n",
    "x2 = jnp.linspace(x2B[0],x2B[1],NN)\n"
   ]
  },
  {
   "cell_type": "code",
   "execution_count": 12,
   "metadata": {},
   "outputs": [],
   "source": [
    "XX0,XX1,XX2 = jnp.meshgrid(x0,x1,x2)\n",
    "Val = jnp.zeros(XX0.shape)"
   ]
  },
  {
   "cell_type": "code",
   "execution_count": 13,
   "metadata": {},
   "outputs": [
    {
     "data": {
      "text/plain": [
       "(200, 200, 200)"
      ]
     },
     "execution_count": 13,
     "metadata": {},
     "output_type": "execute_result"
    }
   ],
   "source": [
    "XX0.shape"
   ]
  },
  {
   "cell_type": "code",
   "execution_count": 14,
   "metadata": {},
   "outputs": [],
   "source": [
    "@jnp.vectorize\n",
    "def LocusChartVec(x,y,z):\n",
    "    return l3.LocusChart(jnp.array([x,y,z]))"
   ]
  },
  {
   "cell_type": "code",
   "execution_count": 15,
   "metadata": {},
   "outputs": [],
   "source": [
    "Val = LocusChartVec(XX0,XX1,XX2)"
   ]
  },
  {
   "cell_type": "code",
   "execution_count": 16,
   "metadata": {},
   "outputs": [],
   "source": [
    "scipy.io.savemat('./Data/ValLocusChart.mat', dict(x0=x0,x1=x1,x2=x2,Val=Val)) # Matlab export"
   ]
  },
  {
   "cell_type": "code",
   "execution_count": null,
   "metadata": {},
   "outputs": [],
   "source": []
  }
 ],
 "metadata": {
  "kernelspec": {
   "display_name": "Python 3",
   "language": "python",
   "name": "python3"
  },
  "language_info": {
   "codemirror_mode": {
    "name": "ipython",
    "version": 3
   },
   "file_extension": ".py",
   "mimetype": "text/x-python",
   "name": "python",
   "nbconvert_exporter": "python",
   "pygments_lexer": "ipython3",
   "version": "3.8.5"
  }
 },
 "nbformat": 4,
 "nbformat_minor": 4
}
