{
 "cells": [
  {
   "cell_type": "code",
   "execution_count": 2,
   "metadata": {},
   "outputs": [],
   "source": [
    "from EndPtJAX import Locus\n",
    "import jax.numpy as jnp\n",
    "import scipy.io         # Matlab export\n",
    "\n",
    "import matplotlib.pyplot as plt\n"
   ]
  },
  {
   "cell_type": "code",
   "execution_count": 3,
   "metadata": {},
   "outputs": [
    {
     "name": "stderr",
     "output_type": "stream",
     "text": [
      "/home/christianoffen/.local/lib/python3.8/site-packages/jax/lib/xla_bridge.py:130: UserWarning: No GPU/TPU found, falling back to CPU.\n",
      "  warnings.warn('No GPU/TPU found, falling back to CPU.')\n"
     ]
    }
   ],
   "source": [
    "# Setup of problem on 3d ellipsoid in R4\n",
    "\n",
    "n = 4                              # dimension outer space\n",
    "b = jnp.array([0.9,1.2,1.6,1])     # ellipsoid coefficients\n",
    "T = 1                              # time\n",
    "N = 10                             # steps\n",
    "dt = T/N                           # discretisation parameter\n",
    "XStart = jnp.array([0.1,0.05,0.2]) # start point of geodesic map\n",
    "\n",
    "l3 = Locus(n,b,T,N,XStart)         # Create 3d geodesic problem (instance of class Locus)"
   ]
  },
  {
   "cell_type": "code",
   "execution_count": 8,
   "metadata": {},
   "outputs": [],
   "source": [
    "# square mesh\n",
    "x0B = [-0.208,0.398]\n",
    "x1B = [-0.325,0.415]\n",
    "x2B = [-0.2,0.515]\n",
    "\n",
    "# for a non-uniform mesh with tighter bounds around bifurcation points\n",
    "\n",
    "# margins around bifurcation points\n",
    "x0b = [-0.16,-0.14,0.33,0.35]\n",
    "x1b = [0.04,0.06]\n",
    "x2b = [-0.02,-0.01,0.36,0.38]\n",
    "\n",
    "# density\n",
    "N = [80,100]\n",
    "\n",
    "xx0_0 = jnp.linspace(x0b[0],x0b[1],num=N[1])\n",
    "xx0_1 = jnp.linspace(x0b[2],x0b[3],num=N[1])\n",
    "\n",
    "xx1 = jnp.linspace(x1b[0],x1b[1],num=N[1])\n",
    "\n",
    "xx2_0 = jnp.linspace(x2b[0],x2b[1],num=N[1])\n",
    "xx2_1 = jnp.linspace(x2b[2],x2b[3],num=N[1])\n",
    "\n",
    "X0 = jnp.linspace(x0B[0],x0B[1],N[0])\n",
    "X1 = jnp.linspace(x1B[0],x1B[1],N[0])\n",
    "X2 = jnp.linspace(x2B[0],x2B[1],N[0])\n"
   ]
  },
  {
   "cell_type": "code",
   "execution_count": 9,
   "metadata": {},
   "outputs": [],
   "source": [
    "indx0 = [min([i for i, x in enumerate(X0) if x > x0b[0]]),\n",
    "         max([i for i, x in enumerate(X0) if x < x0b[1]]),\n",
    "         min([i for i, x in enumerate(X0) if x > x0b[2]]),\n",
    "         max([i for i, x in enumerate(X0) if x < x0b[3]])]\n",
    "\n",
    "indx1 = [min([i for i, x in enumerate(X1) if x > x1b[0]]),\n",
    "         max([i for i, x in enumerate(X1) if x < x1b[1]])]\n",
    "\n",
    "indx2 = [min([i for i, x in enumerate(X2) if x > x2b[0]]),\n",
    "         max([i for i, x in enumerate(X2) if x < x2b[1]]),\n",
    "         min([i for i, x in enumerate(X2) if x > x2b[2]]),\n",
    "         max([i for i, x in enumerate(X2) if x < x2b[3]])]"
   ]
  },
  {
   "cell_type": "code",
   "execution_count": 10,
   "metadata": {},
   "outputs": [],
   "source": [
    "# uniform mesh\n",
    "x0=X0\n",
    "x1=X1\n",
    "x2=X2\n",
    "\n",
    "# for non-uniform mesh uncomment\n",
    "#x0=jnp.concatenate((X0[0:indx0[0]],xx0_0,X0[indx0[1]+1:indx0[2]],xx0_1,X0[indx0[3]+1:-1]))\n",
    "#x1=jnp.concatenate((X1[0:indx1[0]],xx1,X1[indx1[1]+1:-1]))\n",
    "#x2=jnp.concatenate((X2[0:indx2[0]],xx2_0,X2[indx2[1]+1:indx2[2]],xx2_1,X2[indx2[3]+1:-1]))"
   ]
  },
  {
   "cell_type": "code",
   "execution_count": 12,
   "metadata": {},
   "outputs": [
    {
     "data": {
      "image/png": "[encoded data removed]",
      "text/plain": [
       "<Figure size 432x288 with 3 Axes>"
      ]
     },
     "metadata": {
      "needs_background": "light"
     },
     "output_type": "display_data"
    }
   ],
   "source": [
    "# check grid (interesting when non-uniform mesh is selected)\n",
    "plt.subplot(1,3,1)\n",
    "plt.plot(x0)\n",
    "plt.grid(True)\n",
    "plt.subplot(1,3,2)\n",
    "plt.plot(x1)\n",
    "plt.grid(True)\n",
    "plt.subplot(1,3,3)\n",
    "plt.plot(x2)\n",
    "plt.grid(True)"
   ]
  },
  {
   "cell_type": "code",
   "execution_count": 13,
   "metadata": {},
   "outputs": [],
   "source": [
    "XX0,XX1,XX2 = jnp.meshgrid(x0,x1,x2)\n",
    "Val = jnp.zeros(XX0.shape)"
   ]
  },
  {
   "cell_type": "code",
   "execution_count": 14,
   "metadata": {},
   "outputs": [
    {
     "data": {
      "text/plain": [
       "(80, 80, 80)"
      ]
     },
     "execution_count": 14,
     "metadata": {},
     "output_type": "execute_result"
    }
   ],
   "source": [
    "XX0.shape"
   ]
  },
  {
   "cell_type": "code",
   "execution_count": 15,
   "metadata": {},
   "outputs": [],
   "source": [
    "@jnp.vectorize\n",
    "def LocusChartVec(x,y,z):\n",
    "    return l3.LocusChart(jnp.array([x,y,z]))"
   ]
  },
  {
   "cell_type": "code",
   "execution_count": 16,
   "metadata": {},
   "outputs": [],
   "source": [
    "Val = LocusChartVec(XX0,XX1,XX2)"
   ]
  },
  {
   "cell_type": "code",
   "execution_count": 17,
   "metadata": {},
   "outputs": [
    {
     "name": "stdout",
     "output_type": "stream",
     "text": [
      "computation completed, now saving to file\n"
     ]
    }
   ],
   "source": [
    "print('computation completed, now saving to file')"
   ]
  },
  {
   "cell_type": "code",
   "execution_count": 18,
   "metadata": {},
   "outputs": [],
   "source": [
    "scipy.io.savemat('./Data/ValLocusChart.mat', dict(x0=x0,x1=x1,x2=x2,Val=Val)) # Matlab export"
   ]
  }
 ],
 "metadata": {
  "kernelspec": {
   "display_name": "Python 3",
   "language": "python",
   "name": "python3"
  },
  "language_info": {
   "codemirror_mode": {
    "name": "ipython",
    "version": 3
   },
   "file_extension": ".py",
   "mimetype": "text/x-python",
   "name": "python",
   "nbconvert_exporter": "python",
   "pygments_lexer": "ipython3",
   "version": "3.8.5"
  }
 },
 "nbformat": 4,
 "nbformat_minor": 4
}
