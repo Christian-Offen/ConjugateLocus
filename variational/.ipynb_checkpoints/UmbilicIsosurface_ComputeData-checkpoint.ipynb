{
 "cells": [
  {
   "cell_type": "code",
   "execution_count": 1,
   "metadata": {},
   "outputs": [],
   "source": [
    "from EndPtJAX import Locus\n",
    "import jax.numpy as jnp\n",
    "import scipy.io         # Matlab export"
   ]
  },
  {
   "cell_type": "code",
   "execution_count": 2,
   "metadata": {},
   "outputs": [],
   "source": [
    "UmbData=scipy.io.loadmat('./Data/LocationUmbilics.mat')\n",
    "UmbData=UmbData['UmbilicLocationPreimage']"
   ]
  },
  {
   "cell_type": "code",
   "execution_count": 3,
   "metadata": {},
   "outputs": [
    {
     "name": "stderr",
     "output_type": "stream",
     "text": [
      "/home/christianoffen/.local/lib/python3.8/site-packages/jax/lib/xla_bridge.py:130: UserWarning: No GPU/TPU found, falling back to CPU.\n",
      "  warnings.warn('No GPU/TPU found, falling back to CPU.')\n"
     ]
    }
   ],
   "source": [
    "# Setup of problem on 3d ellipsoid in R4\n",
    "\n",
    "n = 4                              # dimension outer space\n",
    "b = jnp.array([0.9,1.2,1.6,1])     # ellipsoid coefficients\n",
    "T = 1                              # time\n",
    "N = 10                             # steps\n",
    "dt = T/N                           # discretisation parameter\n",
    "XStart = jnp.array([0.1,0.05,0.2]) # start point of geodesic map\n",
    "\n",
    "l3 = Locus(n,b,T,N,XStart)         # Create 3d geodesic problem (instance of class Locus)"
   ]
  },
  {
   "cell_type": "code",
   "execution_count": 4,
   "metadata": {},
   "outputs": [],
   "source": [
    "# square domain for evaluation\n",
    "c = UmbData[1]\n",
    "nx = 100\n",
    "ny = 100\n",
    "nz = 100\n",
    "l = 0.01\n",
    "x_ = jnp.linspace(c[0]-l,c[0]+l,num=nx)\n",
    "y_ = jnp.linspace(c[1]-l,c[1]+l,num=ny)\n",
    "z_ = jnp.linspace(c[2]-l,c[2]+l,num=nz)\n",
    "\n",
    "xc,yc,zc = jnp.meshgrid(x_,y_,z_)"
   ]
  },
  {
   "cell_type": "code",
   "execution_count": 5,
   "metadata": {},
   "outputs": [],
   "source": [
    "# evaluate Jacobian determinant of exponential map in charts close to bifurcation point\n",
    "@jnp.vectorize\n",
    "def LocusChartVec(x,y,z):\n",
    "    return l3.LocusChart(jnp.array([x,y,z]))\n",
    "\n",
    "Val = LocusChartVec(xc,yc,zc)"
   ]
  },
  {
   "cell_type": "code",
   "execution_count": 6,
   "metadata": {},
   "outputs": [],
   "source": [
    "scipy.io.savemat('./Data/UmbilicIsosurface_ValsLocusChart.mat', dict(UmbilicData=c, X=xc, Y=yc, Z=zc, Val=Val)) # Matlab export"
   ]
  },
  {
   "cell_type": "code",
   "execution_count": 7,
   "metadata": {},
   "outputs": [],
   "source": [
    "# Now use the MATLAB file \"UmbilicIsosurface_CriticalSet.m\" to compute iso_data"
   ]
  },
  {
   "cell_type": "code",
   "execution_count": 7,
   "metadata": {},
   "outputs": [],
   "source": [
    "matdata=scipy.io.loadmat('./Data/UmbilicIsosurface_isodata.mat')"
   ]
  },
  {
   "cell_type": "code",
   "execution_count": 8,
   "metadata": {},
   "outputs": [],
   "source": [
    "verts=matdata['verts']\n",
    "uLocus = l3.endptChart(c)"
   ]
  },
  {
   "cell_type": "code",
   "execution_count": 9,
   "metadata": {},
   "outputs": [],
   "source": [
    "vertsLocus=list(map(l3.endptChart,verts))"
   ]
  },
  {
   "cell_type": "code",
   "execution_count": 10,
   "metadata": {},
   "outputs": [],
   "source": [
    "scipy.io.savemat('./Data/UmbilicIsosurface_LocusVerts.mat', dict(LocusVerts=vertsLocus,LocusUmbilic=uLocus)) # Matlab export"
   ]
  },
  {
   "cell_type": "code",
   "execution_count": null,
   "metadata": {},
   "outputs": [],
   "source": []
  },
  {
   "cell_type": "code",
   "execution_count": null,
   "metadata": {},
   "outputs": [],
   "source": []
  }
 ],
 "metadata": {
  "kernelspec": {
   "display_name": "Python 3",
   "language": "python",
   "name": "python3"
  },
  "language_info": {
   "codemirror_mode": {
    "name": "ipython",
    "version": 3
   },
   "file_extension": ".py",
   "mimetype": "text/x-python",
   "name": "python",
   "nbconvert_exporter": "python",
   "pygments_lexer": "ipython3",
   "version": "3.8.5"
  }
 },
 "nbformat": 4,
 "nbformat_minor": 4
}
