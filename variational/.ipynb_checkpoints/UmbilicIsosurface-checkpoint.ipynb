{
 "cells": [
  {
   "cell_type": "code",
   "execution_count": 1,
   "metadata": {},
   "outputs": [],
   "source": [
    "from EndPtJAX import Locus\n",
    "import jax.numpy as jnp\n",
    "import scipy.io         # Matlab export\n",
    "import pickle"
   ]
  },
  {
   "cell_type": "code",
   "execution_count": 2,
   "metadata": {},
   "outputs": [],
   "source": [
    "f = open('/home/christianoffen/sciebo/Paderborn University/OptimalControl/PythonGeodesicRK2/UmbilicCloseUp/UPre.pck', 'rb')\n",
    "UmbData = pickle.load(f)\n",
    "f.close()"
   ]
  },
  {
   "cell_type": "code",
   "execution_count": 3,
   "metadata": {},
   "outputs": [
    {
     "name": "stderr",
     "output_type": "stream",
     "text": [
      "/home/christianoffen/.local/lib/python3.8/site-packages/jax/lib/xla_bridge.py:130: UserWarning: No GPU/TPU found, falling back to CPU.\n",
      "  warnings.warn('No GPU/TPU found, falling back to CPU.')\n"
     ]
    }
   ],
   "source": [
    "# Setup of problem on 3d ellipsoid in R4\n",
    "\n",
    "n = 4                              # dimension outer space\n",
    "b = jnp.array([0.9,1.2,1.6,1])     # ellipsoid coefficients\n",
    "T = 1                              # time\n",
    "N = 10                             # steps\n",
    "dt = T/N                           # discretisation parameter\n",
    "XStart = jnp.array([0.1,0.05,0.2]) # start point of geodesic map\n",
    "\n",
    "l3 = Locus(n,b,T,N,XStart)         # Create 3d geodesic problem (instance of class Locus)"
   ]
  },
  {
   "cell_type": "code",
   "execution_count": null,
   "metadata": {},
   "outputs": [],
   "source": [
    "# square domain\n",
    "c = UmbData[1][:3]\n",
    "nx = 80\n",
    "ny = 80\n",
    "nz = 80\n",
    "l = 0.1\n",
    "x_ = np.linspace(c[0]-l,c[0]+l,num=nx)\n",
    "y_ = np.linspace(c[1]-l,c[1]+l,num=ny)\n",
    "z_ = np.linspace(c[2]-l,c[2]+l,num=nz)\n",
    "\n",
    "xc,yc,zc = np.meshgrid(x_,y_,z_)"
   ]
  },
  {
   "cell_type": "code",
   "execution_count": null,
   "metadata": {},
   "outputs": [],
   "source": [
    "@np.vectorize\n",
    "def LocusChartVec(x,y,z):\n",
    "    return l3.LocusChart(np.array([x,y,z]))\n",
    "\n",
    "Val = LocusChartVec(xc,yc,zc)"
   ]
  },
  {
   "cell_type": "code",
   "execution_count": null,
   "metadata": {},
   "outputs": [],
   "source": [
    "scipy.io.savemat('UmbilicCloseUp/ValsLocusChart.mat', dict(UmbilicData=c, X=xc, Y=yc, Z=zc, Val=Val)) # Matlab export"
   ]
  },
  {
   "cell_type": "code",
   "execution_count": null,
   "metadata": {},
   "outputs": [],
   "source": [
    "# Plot critical set of \"endpt\".\n",
    "# Every second level sets is related to the charts \n",
    "\n",
    "data=go.Isosurface(\n",
    "    x=xc.flatten(),\n",
    "    y=yc.flatten(),\n",
    "    z=zc.flatten(),\n",
    "    value=Val.flatten(),\n",
    "    isomin=0,\n",
    "    isomax=0,\n",
    ")\n",
    "\n",
    "figIso= go.Figure(data)\n",
    "\n",
    "figIso.show()"
   ]
  },
  {
   "cell_type": "code",
   "execution_count": null,
   "metadata": {},
   "outputs": [],
   "source": [
    "matdata=scipy.io.loadmat('UmbilicCloseUp/isodata.mat')"
   ]
  },
  {
   "cell_type": "code",
   "execution_count": null,
   "metadata": {},
   "outputs": [],
   "source": [
    "matdata.keys()"
   ]
  },
  {
   "cell_type": "code",
   "execution_count": null,
   "metadata": {},
   "outputs": [],
   "source": [
    "verts=matdata['verts']\n",
    "uLocus = l3.endptChart(c)"
   ]
  },
  {
   "cell_type": "code",
   "execution_count": null,
   "metadata": {},
   "outputs": [],
   "source": [
    "vertsLocus=list(map(l3.endptChart,verts))"
   ]
  },
  {
   "cell_type": "code",
   "execution_count": null,
   "metadata": {},
   "outputs": [],
   "source": [
    "scipy.io.savemat('UmbilicCloseUp/LocusVerts.mat', dict(LocusVerts=vertsLocus,LocusUmbilic=uLocus)) # Matlab export"
   ]
  },
  {
   "cell_type": "code",
   "execution_count": null,
   "metadata": {},
   "outputs": [],
   "source": []
  }
 ],
 "metadata": {
  "kernelspec": {
   "display_name": "Python 3",
   "language": "python",
   "name": "python3"
  },
  "language_info": {
   "codemirror_mode": {
    "name": "ipython",
    "version": 3
   },
   "file_extension": ".py",
   "mimetype": "text/x-python",
   "name": "python",
   "nbconvert_exporter": "python",
   "pygments_lexer": "ipython3",
   "version": "3.8.5"
  }
 },
 "nbformat": 4,
 "nbformat_minor": 4
}
